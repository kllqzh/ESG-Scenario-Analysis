{
 "cells": [
  {
   "cell_type": "code",
   "execution_count": 3,
   "metadata": {},
   "outputs": [],
   "source": [
    "import numpy as np\n",
    "import pandas as pd\n",
    "from scipy.optimize import fsolve\n",
    "from scipy.stats import norm\n",
    "import matplotlib.pyplot as plt"
   ]
  },
  {
   "cell_type": "code",
   "execution_count": 4,
   "metadata": {},
   "outputs": [],
   "source": [
    "equity_his=pd.read_excel(\"climate_transition_risk.xlsx\")\n",
    "dne=pd.read_excel(\"climate_transition_risk.xlsx\",sheet_name=\"Exxon Financial Info\")\n",
    "equity_vol=pd.read_excel(\"climate_transition_risk.xlsx\",sheet_name=\"volatility\")\n",
    "Pricing_s=pd.read_excel(\"climate_transition_risk.xlsx\",sheet_name=\"NGFS Climate Scenarios\")"
   ]
  },
  {
   "cell_type": "code",
   "execution_count": 5,
   "metadata": {},
   "outputs": [],
   "source": [
    "#equity_vol['year_vola']"
   ]
  },
  {
   "cell_type": "code",
   "execution_count": 6,
   "metadata": {},
   "outputs": [],
   "source": [
    "## define constants\n",
    "r=0.05\n",
    "T=1"
   ]
  },
  {
   "cell_type": "code",
   "execution_count": 7,
   "metadata": {},
   "outputs": [],
   "source": [
    "## get mean close price from yr 2012-2021\n",
    "mean_equity=np.array(equity_his[\"Close Price\"].groupby(equity_his['yr']).mean())[:-1]\n",
    "## get share outstanding array in units, with 2012-2021\n",
    "shares_out=(np.array(dne[\"Shares Outstanding (Millions)\"])*1000000)[::-1]\n",
    "## get E value, with 2012-2021\n",
    "equity_his=mean_equity*shares_out\n",
    "## get E volatility, with 2012-2021\n",
    "sigma_e=np.array(equity_vol['year_vola'])[::-1][:-1]\n",
    "## get debt value based on short_term+1/2LTD, with 2012-2021\n",
    "debt_his=(np.array(dne[\"Short Term Debt (Millions)\"]*1000000+1/2*dne[\"Long Term Debt (Millions)\"]*1000000))[::-1]\n",
    "\n",
    "\n",
    "#note all array arrange from 2012-2021"
   ]
  },
  {
   "cell_type": "code",
   "execution_count": null,
   "metadata": {},
   "outputs": [],
   "source": []
  },
  {
   "cell_type": "markdown",
   "metadata": {},
   "source": [
    "d_p=(np.log(A/D)+(r+sigma_a**2/2)*T)/(sigma_a*np.sqrt(T))\n",
    "d_n=(np.log(A/D)+(r-sigma_a**2/2)*T)/(sigma_a*np.sqrt(T))\n",
    "E=A*norm.cdf(d_p)-np.exp(-r*T)*D*norm.cdf(d_n)\n",
    "E*sigma_e=A*sigma_a*norm.cdf(d_p)"
   ]
  },
  {
   "cell_type": "markdown",
   "metadata": {},
   "source": [
    "def func(x):\n",
    "    d_p=(np.log(x[0]/D)+(r+x[1]**2/2)*T)/(x[1]*np.sqrt(T))\n",
    "    d_n=(np.log(x[0]/D)+(r-x[1]**2/2)*T)/(x[1]*np.sqrt(T))\n",
    "    y=[x[0]*norm.cdf(d_p)-np.exp(-r*T)*D*norm.cdf(d_n)-E,\n",
    "            (x[0]*x[1]*norm.cdf(d_p))/(E*s_e)-1]\n",
    "    return y"
   ]
  },
  {
   "cell_type": "code",
   "execution_count": 8,
   "metadata": {},
   "outputs": [],
   "source": [
    "def func(x):\n",
    "    d_p=(np.log(x[0]/D)+(r+((x[1]**2)/2))*T)/(x[1]*np.sqrt(T))\n",
    "    d_n=(np.log(x[0]/D)+(r-((x[1]**2)/2))*T)/(x[1]*np.sqrt(T))\n",
    "    y=[x[0]*norm.cdf(d_p)-np.exp(-r*T)*D*norm.cdf(d_n)-E,\n",
    "            (x[0]*x[1]*norm.cdf(d_p))/(E*s_e)-1]\n",
    "    return y\n",
    "A=[]\n",
    "sigma_a=[]\n",
    "\n",
    "for i in range(len(debt_his)):\n",
    "    D=debt_his[i]\n",
    "    s_e=sigma_e[i]\n",
    "    E=equity_his[i]\n",
    "    root = fsolve(func, [E+D,0.01],xtol=1.49012e-08)\n",
    "    A.append(root[0])\n",
    "    sigma_a.append(root[1])\n",
    "    #s_a=root[1]\n",
    "    #A=root[0]\n",
    "    #d_n=(np.log(A/D)+(r-s_a**2/2)*T)/(s_a*np.sqrt(T))\n",
    "    #dp1=norm.cdf(-d_n)\n",
    "    #dp.append(dp1)"
   ]
  },
  {
   "cell_type": "code",
   "execution_count": 9,
   "metadata": {},
   "outputs": [
    {
     "name": "stdout",
     "output_type": "stream",
     "text": [
      "[4.42609763e-135 1.37560098e-114 5.87189181e-066 8.44055233e-030\n",
      " 7.56491859e-043 2.48905581e-115 2.08850881e-033 9.50459149e-042\n",
      " 1.66284116e-004 3.05702737e-018]\n"
     ]
    }
   ],
   "source": [
    "pd=np.array(norm.cdf(-(np.log(np.array(A)/debt_his)+(r-np.array(sigma_a)**2/2)*T)/(np.array(sigma_a)*np.sqrt(T))))\n",
    "print(pd)"
   ]
  },
  {
   "cell_type": "code",
   "execution_count": 10,
   "metadata": {},
   "outputs": [
    {
     "name": "stdout",
     "output_type": "stream",
     "text": [
      "[ 0.00000000e+00  0.00000000e+00  0.00000000e+00  0.00000000e+00\n",
      "  3.05175781e-05 -3.05175781e-05  0.00000000e+00  3.05175781e-05\n",
      "  2.71606445e-03  0.00000000e+00]\n"
     ]
    },
    {
     "data": {
      "text/plain": [
       "array([-1.80715054e-06, -9.96417027e-06, -1.27528408e-05, -2.49995706e-05,\n",
       "       -2.12188308e-05, -2.26458461e-05, -1.96010426e-05, -2.98511415e-05,\n",
       "       -2.64277489e-12, -2.32041948e-05])"
      ]
     },
     "execution_count": 10,
     "metadata": {},
     "output_type": "execute_result"
    }
   ],
   "source": [
    "# verify\n",
    "d_p=(np.log(np.array(A)/debt_his)+(r+np.array(sigma_a)**2/2)*T)/(np.array(sigma_a)*np.sqrt(T))\n",
    "d_n=(np.log(np.array(A)/debt_his)+(r-np.array(sigma_a)**2/2)*T)/(np.array(sigma_a)*np.sqrt(T))\n",
    "print(np.array(A)*norm.cdf(d_p)-np.exp(-r*T)*debt_his*norm.cdf(d_n)-equity_his)\n",
    "(np.array(A)*np.array(sigma_a)*norm.cdf(d_p))/(equity_his*sigma_e)-1"
   ]
  },
  {
   "cell_type": "code",
   "execution_count": 11,
   "metadata": {},
   "outputs": [
    {
     "data": {
      "text/plain": [
       "Text(0, 0.5, 'PD Value')"
      ]
     },
     "execution_count": 11,
     "metadata": {},
     "output_type": "execute_result"
    },
    {
     "data": {
      "image/png": "[encoded data removed]",
      "text/plain": [
       "<Figure size 432x288 with 1 Axes>"
      ]
     },
     "metadata": {
      "needs_background": "light"
     },
     "output_type": "display_data"
    }
   ],
   "source": [
    "yr=np.arange(2012,2022,1)\n",
    "plt.plot(np.array(yr),np.array(pd))\n",
    "plt.xlabel(\"Year\")\n",
    "plt.ylabel(\"PD Value\")"
   ]
  },
  {
   "cell_type": "code",
   "execution_count": 12,
   "metadata": {
    "scrolled": true
   },
   "outputs": [],
   "source": [
    "import pandas as pd\n",
    "newdf = pd.DataFrame()\n",
    "newdf[\"Year\"] = dne[\"Year\"][::-1]\n",
    "newdf[\"A\"] = A\n",
    "newdf[\"sigma\"] = sigma_a\n",
    "#newdf[\"PD\"] = np.array(pd)\n",
    "newdf.head()\n",
    "newdf.to_csv(\"Asigma_Estimates.csv\")"
   ]
  },
  {
   "cell_type": "code",
   "execution_count": 13,
   "metadata": {},
   "outputs": [
    {
     "name": "stdout",
     "output_type": "stream",
     "text": [
      "[2.75772319e+11]\n"
     ]
    }
   ],
   "source": [
    "#new emission A estimate\n",
    "D=np.mean(debt_his)\n",
    "s_e=np.mean(sigma_e)\n",
    "E= np.mean(equity_his)\n",
    "s_a = np.mean(sigma_a)\n",
    "def func(x):\n",
    "    d_p=(np.log(x/D)+(r+((s_a**2)/2))*T)/(s_a*np.sqrt(T))\n",
    "    d_n=(np.log(x/D)+(r-((s_a**2)/2))*T)/(s_a*np.sqrt(T))\n",
    "    y=x[0]*norm.cdf(d_p)-np.exp(-r*T)*D*norm.cdf(d_n)-E\n",
    "    return y\n",
    "root = fsolve(func, E+D,xtol=1.49012e-08)\n",
    "print(root)\n",
    "A_est = root\n",
    "E1 = 112 * 1000000/2\n",
    "E2 = 112* 1000000/2\n",
    "E3 = 650* 1000000"
   ]
  },
  {
   "cell_type": "code",
   "execution_count": 14,
   "metadata": {
    "scrolled": true
   },
   "outputs": [
    {
     "name": "stderr",
     "output_type": "stream",
     "text": [
      "C:\\Users\\kllqz\\anaconda3\\lib\\site-packages\\pandas\\core\\arraylike.py:358: RuntimeWarning: invalid value encountered in log\n",
      "  result = getattr(ufunc, method)(*inputs, **kwargs)\n"
     ]
    },
    {
     "data": {
      "text/html": [
       "<div>\n",
       "<style scoped>\n",
       "    .dataframe tbody tr th:only-of-type {\n",
       "        vertical-align: middle;\n",
       "    }\n",
       "\n",
       "    .dataframe tbody tr th {\n",
       "        vertical-align: top;\n",
       "    }\n",
       "\n",
       "    .dataframe thead th {\n",
       "        text-align: right;\n",
       "    }\n",
       "</style>\n",
       "<table border=\"1\" class=\"dataframe\">\n",
       "  <thead>\n",
       "    <tr style=\"text-align: right;\">\n",
       "      <th></th>\n",
       "      <th>Time</th>\n",
       "      <th>Scenario</th>\n",
       "      <th>Carbon price (US$2010/t CO2)</th>\n",
       "      <th>Cost E12</th>\n",
       "      <th>Cost E3</th>\n",
       "      <th>Reduced Asset E12</th>\n",
       "      <th>Reduced Asset E123</th>\n",
       "      <th>A/D E12</th>\n",
       "      <th>A/D E123</th>\n",
       "      <th>PD E12</th>\n",
       "      <th>PD E123</th>\n",
       "    </tr>\n",
       "  </thead>\n",
       "  <tbody>\n",
       "    <tr>\n",
       "      <th>0</th>\n",
       "      <td>2025</td>\n",
       "      <td>Nationally Determined Contributions (NDCs)</td>\n",
       "      <td>25.653253</td>\n",
       "      <td>2.873164e+09</td>\n",
       "      <td>1.667461e+10</td>\n",
       "      <td>2.728992e+11</td>\n",
       "      <td>2.562245e+11</td>\n",
       "      <td>10.158791</td>\n",
       "      <td>9.538071</td>\n",
       "      <td>6.558752e-34</td>\n",
       "      <td>3.213386e-32</td>\n",
       "    </tr>\n",
       "    <tr>\n",
       "      <th>1</th>\n",
       "      <td>2030</td>\n",
       "      <td>Nationally Determined Contributions (NDCs)</td>\n",
       "      <td>76.732026</td>\n",
       "      <td>8.593987e+09</td>\n",
       "      <td>4.987582e+10</td>\n",
       "      <td>2.671783e+11</td>\n",
       "      <td>2.173025e+11</td>\n",
       "      <td>9.945831</td>\n",
       "      <td>8.089182</td>\n",
       "      <td>2.453669e-33</td>\n",
       "      <td>5.126190e-28</td>\n",
       "    </tr>\n",
       "    <tr>\n",
       "      <th>2</th>\n",
       "      <td>2035</td>\n",
       "      <td>Nationally Determined Contributions (NDCs)</td>\n",
       "      <td>86.903496</td>\n",
       "      <td>9.733192e+09</td>\n",
       "      <td>5.648727e+10</td>\n",
       "      <td>2.660391e+11</td>\n",
       "      <td>2.095519e+11</td>\n",
       "      <td>9.903423</td>\n",
       "      <td>7.800660</td>\n",
       "      <td>3.197138e-33</td>\n",
       "      <td>3.932037e-27</td>\n",
       "    </tr>\n",
       "    <tr>\n",
       "      <th>3</th>\n",
       "      <td>2040</td>\n",
       "      <td>Nationally Determined Contributions (NDCs)</td>\n",
       "      <td>88.807857</td>\n",
       "      <td>9.946480e+09</td>\n",
       "      <td>5.772511e+10</td>\n",
       "      <td>2.658258e+11</td>\n",
       "      <td>2.081007e+11</td>\n",
       "      <td>9.895484</td>\n",
       "      <td>7.746641</td>\n",
       "      <td>3.359802e-33</td>\n",
       "      <td>5.783605e-27</td>\n",
       "    </tr>\n",
       "    <tr>\n",
       "      <th>4</th>\n",
       "      <td>2045</td>\n",
       "      <td>Nationally Determined Contributions (NDCs)</td>\n",
       "      <td>90.712219</td>\n",
       "      <td>1.015977e+10</td>\n",
       "      <td>5.896294e+10</td>\n",
       "      <td>2.656126e+11</td>\n",
       "      <td>2.066496e+11</td>\n",
       "      <td>9.887544</td>\n",
       "      <td>7.692622</td>\n",
       "      <td>3.530822e-33</td>\n",
       "      <td>8.519156e-27</td>\n",
       "    </tr>\n",
       "  </tbody>\n",
       "</table>\n",
       "</div>"
      ],
      "text/plain": [
       "   Time                                     Scenario  \\\n",
       "0  2025  Nationally Determined Contributions (NDCs)    \n",
       "1  2030  Nationally Determined Contributions (NDCs)    \n",
       "2  2035  Nationally Determined Contributions (NDCs)    \n",
       "3  2040  Nationally Determined Contributions (NDCs)    \n",
       "4  2045  Nationally Determined Contributions (NDCs)    \n",
       "\n",
       "   Carbon price (US$2010/t CO2)      Cost E12       Cost E3  \\\n",
       "0                     25.653253  2.873164e+09  1.667461e+10   \n",
       "1                     76.732026  8.593987e+09  4.987582e+10   \n",
       "2                     86.903496  9.733192e+09  5.648727e+10   \n",
       "3                     88.807857  9.946480e+09  5.772511e+10   \n",
       "4                     90.712219  1.015977e+10  5.896294e+10   \n",
       "\n",
       "   Reduced Asset E12  Reduced Asset E123    A/D E12  A/D E123        PD E12  \\\n",
       "0       2.728992e+11        2.562245e+11  10.158791  9.538071  6.558752e-34   \n",
       "1       2.671783e+11        2.173025e+11   9.945831  8.089182  2.453669e-33   \n",
       "2       2.660391e+11        2.095519e+11   9.903423  7.800660  3.197138e-33   \n",
       "3       2.658258e+11        2.081007e+11   9.895484  7.746641  3.359802e-33   \n",
       "4       2.656126e+11        2.066496e+11   9.887544  7.692622  3.530822e-33   \n",
       "\n",
       "        PD E123  \n",
       "0  3.213386e-32  \n",
       "1  5.126190e-28  \n",
       "2  3.932037e-27  \n",
       "3  5.783605e-27  \n",
       "4  8.519156e-27  "
      ]
     },
     "execution_count": 14,
     "metadata": {},
     "output_type": "execute_result"
    }
   ],
   "source": [
    "Pricing_s[\"Cost E12\"] = Pricing_s[\"Carbon price (US$2010/t CO2)\"] * (E1+E2)\n",
    "Pricing_s[\"Cost E3\"]= Pricing_s[\"Carbon price (US$2010/t CO2)\"] * (E3)\n",
    "Pricing_s[\"Reduced Asset E12\"] = A_est - Pricing_s[\"Cost E12\"]\n",
    "Pricing_s[\"Reduced Asset E123\"] = A_est - Pricing_s[\"Cost E12\"]  - Pricing_s[\"Cost E3\"]\n",
    "Pricing_s[\"A/D E12\"] = Pricing_s[\"Reduced Asset E12\"]/D\n",
    "Pricing_s[\"A/D E123\"] = Pricing_s[\"Reduced Asset E123\"]/D\n",
    "pd12=norm.cdf(-(np.log(Pricing_s[\"Reduced Asset E12\"]/D)+(r-np.array(s_a)**2/2)*T)/(np.array(s_a)*np.sqrt(T)))\n",
    "pd123=norm.cdf(-(np.log(Pricing_s[\"Reduced Asset E123\"]/D)+(r-np.array(s_a)**2/2)*T)/(np.array(s_a)*np.sqrt(T)))\n",
    "Pricing_s[\"PD E12\"] = pd12\n",
    "Pricing_s[\"PD E123\"] = pd123\n",
    "Pricing_s.head()"
   ]
  },
  {
   "cell_type": "code",
   "execution_count": 15,
   "metadata": {},
   "outputs": [],
   "source": [
    "Pricing_s.to_csv(\"Senarios_constant.csv\")"
   ]
  },
  {
   "cell_type": "code",
   "execution_count": 16,
   "metadata": {},
   "outputs": [],
   "source": [
    "diff=(E1+E2)/28\n",
    "E12_s=[diff*25,diff*20,diff*15,diff *10,diff*5,0]\n"
   ]
  },
  {
   "cell_type": "code",
   "execution_count": 17,
   "metadata": {},
   "outputs": [
    {
     "name": "stderr",
     "output_type": "stream",
     "text": [
      "C:\\Users\\kllqz\\anaconda3\\lib\\site-packages\\pandas\\core\\arraylike.py:358: RuntimeWarning: invalid value encountered in log\n",
      "  result = getattr(ufunc, method)(*inputs, **kwargs)\n"
     ]
    },
    {
     "data": {
      "text/html": [
       "<div>\n",
       "<style scoped>\n",
       "    .dataframe tbody tr th:only-of-type {\n",
       "        vertical-align: middle;\n",
       "    }\n",
       "\n",
       "    .dataframe tbody tr th {\n",
       "        vertical-align: top;\n",
       "    }\n",
       "\n",
       "    .dataframe thead th {\n",
       "        text-align: right;\n",
       "    }\n",
       "</style>\n",
       "<table border=\"1\" class=\"dataframe\">\n",
       "  <thead>\n",
       "    <tr style=\"text-align: right;\">\n",
       "      <th></th>\n",
       "      <th>Time</th>\n",
       "      <th>Scenario</th>\n",
       "      <th>Carbon price (US$2010/t CO2)</th>\n",
       "      <th>E12 Emission</th>\n",
       "      <th>Cost E12</th>\n",
       "      <th>Cost E3</th>\n",
       "      <th>Reduced Asset E12</th>\n",
       "      <th>Reduced Asset E123</th>\n",
       "      <th>A/D E12</th>\n",
       "      <th>A/D E123</th>\n",
       "      <th>PD E12</th>\n",
       "      <th>PD E123</th>\n",
       "    </tr>\n",
       "  </thead>\n",
       "  <tbody>\n",
       "    <tr>\n",
       "      <th>0</th>\n",
       "      <td>2025</td>\n",
       "      <td>Nationally Determined Contributions (NDCs)</td>\n",
       "      <td>25.653253</td>\n",
       "      <td>100000000.0</td>\n",
       "      <td>2.565325e+09</td>\n",
       "      <td>1.667461e+10</td>\n",
       "      <td>2.732070e+11</td>\n",
       "      <td>2.565324e+11</td>\n",
       "      <td>10.170250</td>\n",
       "      <td>9.549530</td>\n",
       "      <td>6.112040e-34</td>\n",
       "      <td>2.986747e-32</td>\n",
       "    </tr>\n",
       "    <tr>\n",
       "      <th>1</th>\n",
       "      <td>2030</td>\n",
       "      <td>Nationally Determined Contributions (NDCs)</td>\n",
       "      <td>76.732026</td>\n",
       "      <td>80000000.0</td>\n",
       "      <td>6.138562e+09</td>\n",
       "      <td>4.987582e+10</td>\n",
       "      <td>2.696338e+11</td>\n",
       "      <td>2.197579e+11</td>\n",
       "      <td>10.037235</td>\n",
       "      <td>8.180586</td>\n",
       "      <td>1.390022e-33</td>\n",
       "      <td>2.710255e-28</td>\n",
       "    </tr>\n",
       "    <tr>\n",
       "      <th>2</th>\n",
       "      <td>2035</td>\n",
       "      <td>Nationally Determined Contributions (NDCs)</td>\n",
       "      <td>86.903496</td>\n",
       "      <td>60000000.0</td>\n",
       "      <td>5.214210e+09</td>\n",
       "      <td>5.648727e+10</td>\n",
       "      <td>2.705581e+11</td>\n",
       "      <td>2.140708e+11</td>\n",
       "      <td>10.071644</td>\n",
       "      <td>7.968881</td>\n",
       "      <td>1.123185e-33</td>\n",
       "      <td>1.193023e-27</td>\n",
       "    </tr>\n",
       "    <tr>\n",
       "      <th>3</th>\n",
       "      <td>2040</td>\n",
       "      <td>Nationally Determined Contributions (NDCs)</td>\n",
       "      <td>88.807857</td>\n",
       "      <td>40000000.0</td>\n",
       "      <td>3.552314e+09</td>\n",
       "      <td>5.772511e+10</td>\n",
       "      <td>2.722200e+11</td>\n",
       "      <td>2.144949e+11</td>\n",
       "      <td>10.133509</td>\n",
       "      <td>7.984667</td>\n",
       "      <td>7.664408e-34</td>\n",
       "      <td>1.067438e-27</td>\n",
       "    </tr>\n",
       "    <tr>\n",
       "      <th>4</th>\n",
       "      <td>2045</td>\n",
       "      <td>Nationally Determined Contributions (NDCs)</td>\n",
       "      <td>90.712219</td>\n",
       "      <td>20000000.0</td>\n",
       "      <td>1.814244e+09</td>\n",
       "      <td>5.896294e+10</td>\n",
       "      <td>2.739581e+11</td>\n",
       "      <td>2.149951e+11</td>\n",
       "      <td>10.198210</td>\n",
       "      <td>8.003288</td>\n",
       "      <td>5.146659e-34</td>\n",
       "      <td>9.363197e-28</td>\n",
       "    </tr>\n",
       "  </tbody>\n",
       "</table>\n",
       "</div>"
      ],
      "text/plain": [
       "   Time                                     Scenario  \\\n",
       "0  2025  Nationally Determined Contributions (NDCs)    \n",
       "1  2030  Nationally Determined Contributions (NDCs)    \n",
       "2  2035  Nationally Determined Contributions (NDCs)    \n",
       "3  2040  Nationally Determined Contributions (NDCs)    \n",
       "4  2045  Nationally Determined Contributions (NDCs)    \n",
       "\n",
       "   Carbon price (US$2010/t CO2)  E12 Emission      Cost E12       Cost E3  \\\n",
       "0                     25.653253   100000000.0  2.565325e+09  1.667461e+10   \n",
       "1                     76.732026    80000000.0  6.138562e+09  4.987582e+10   \n",
       "2                     86.903496    60000000.0  5.214210e+09  5.648727e+10   \n",
       "3                     88.807857    40000000.0  3.552314e+09  5.772511e+10   \n",
       "4                     90.712219    20000000.0  1.814244e+09  5.896294e+10   \n",
       "\n",
       "   Reduced Asset E12  Reduced Asset E123    A/D E12  A/D E123        PD E12  \\\n",
       "0       2.732070e+11        2.565324e+11  10.170250  9.549530  6.112040e-34   \n",
       "1       2.696338e+11        2.197579e+11  10.037235  8.180586  1.390022e-33   \n",
       "2       2.705581e+11        2.140708e+11  10.071644  7.968881  1.123185e-33   \n",
       "3       2.722200e+11        2.144949e+11  10.133509  7.984667  7.664408e-34   \n",
       "4       2.739581e+11        2.149951e+11  10.198210  8.003288  5.146659e-34   \n",
       "\n",
       "        PD E123  \n",
       "0  2.986747e-32  \n",
       "1  2.710255e-28  \n",
       "2  1.193023e-27  \n",
       "3  1.067438e-27  \n",
       "4  9.363197e-28  "
      ]
     },
     "execution_count": 17,
     "metadata": {},
     "output_type": "execute_result"
    }
   ],
   "source": [
    "Pricing_s=pd.read_excel(\"climate_transition_risk.xlsx\",sheet_name=\"NGFS Climate Scenarios\")\n",
    "#E12_s = np.linspace(0, E1+E2, 6)[::-1]\n",
    "E12_s = np.concatenate([E12_s, E12_s, E12_s])\n",
    "Pricing_s[\"E12 Emission\"] = E12_s\n",
    "Pricing_s[\"Cost E12\"] = Pricing_s[\"Carbon price (US$2010/t CO2)\"] * E12_s\n",
    "Pricing_s[\"Cost E3\"]= Pricing_s[\"Carbon price (US$2010/t CO2)\"] * (E3)\n",
    "Pricing_s[\"Reduced Asset E12\"] = A_est - Pricing_s[\"Cost E12\"]\n",
    "Pricing_s[\"Reduced Asset E123\"] = A_est - Pricing_s[\"Cost E12\"]  - Pricing_s[\"Cost E3\"]\n",
    "Pricing_s[\"A/D E12\"] = Pricing_s[\"Reduced Asset E12\"]/D\n",
    "Pricing_s[\"A/D E123\"] = Pricing_s[\"Reduced Asset E123\"]/D\n",
    "pd12=norm.cdf(-(np.log(Pricing_s[\"Reduced Asset E12\"]/D)+(r-np.array(s_a)**2/2)*T)/(np.array(s_a)*np.sqrt(T)))\n",
    "pd123=norm.cdf(-(np.log(Pricing_s[\"Reduced Asset E123\"]/D)+(r-np.array(s_a)**2/2)*T)/(np.array(s_a)*np.sqrt(T)))\n",
    "Pricing_s[\"PD E12\"] = pd12\n",
    "Pricing_s[\"PD E123\"] = pd123\n",
    "Pricing_s.head()"
   ]
  },
  {
   "cell_type": "code",
   "execution_count": 18,
   "metadata": {},
   "outputs": [],
   "source": [
    "Pricing_s.to_csv(\"Senarios_stepwise.csv\")"
   ]
  },
  {
   "cell_type": "code",
   "execution_count": null,
   "metadata": {},
   "outputs": [],
   "source": []
  }
 ],
 "metadata": {
  "kernelspec": {
   "display_name": "Python 3",
   "language": "python",
   "name": "python3"
  },
  "language_info": {
   "codemirror_mode": {
    "name": "ipython",
    "version": 3
   },
   "file_extension": ".py",
   "mimetype": "text/x-python",
   "name": "python",
   "nbconvert_exporter": "python",
   "pygments_lexer": "ipython3",
   "version": "3.8.8"
  }
 },
 "nbformat": 4,
 "nbformat_minor": 4
}
